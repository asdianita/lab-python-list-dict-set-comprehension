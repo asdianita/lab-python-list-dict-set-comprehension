{
 "cells": [
  {
   "cell_type": "markdown",
   "id": "25d7736c-ba17-4aff-b6bb-66eba20fbf4e",
   "metadata": {},
   "source": [
    "# Lab | List, Dict and Set Comprehension"
   ]
  },
  {
   "cell_type": "markdown",
   "id": "7dd3cbde-675a-4b81-92c3-f728846dbe06",
   "metadata": {},
   "source": [
    "## Exercise: Managing Customer Orders Optimized with Comprehension"
   ]
  },
  {
   "cell_type": "markdown",
   "id": "5d500160-2fb7-4777-b5e4-09d45ebaf328",
   "metadata": {},
   "source": [
    "In the previous exercise, you developed a program to manage customer orders and inventory. Now, let's take it a step further and incorporate comprehension into your code.\n",
    "\n",
    "Follow the steps below to complete the exercise:\n",
    "\n",
    "1. Review your code from the previous exercise and identify areas where you can apply comprehension to simplify and streamline your code. \n",
    "\n",
    "    - *Hint: Apply it to initialize inventory, updating the inventory and printing the updated inventory.*\n",
    "    \n",
    "    - For example, in initializing the inventory, we could have:\n",
    "    \n",
    "        ```python\n",
    "        def initialize_inventory(products):\n",
    "            inventory = {product: int(input(f\"Enter the quantity of {product}s available: \")) for product in products}\n",
    "            return inventory\n",
    "\n",
    "        ```\n",
    "<br>\n",
    "    \n",
    "    \n",
    "2. Modify the function get_customer_orders so it prompts the user to enter the number of customer orders and gathers the product names using a loop and user input. Use comprehension.\n",
    "\n",
    "3. Add a new function to calculate the total price of the customer order. For each product in customer_orders, prompt the user to enter the price of that product. Use comprehension to calculate the total price. Note: assume that the user can only have 1 unit of each product.\n",
    "\n",
    "4. Modify the update_inventory function to remove the product from the inventory if its quantity becomes zero after fulfilling the customer orders. Use comprehension to filter out the products with a quantity of zero from the inventory.\n",
    "\n",
    "5. Print the total price of the customer order.\n",
    "\n",
    "Your code should produce output similar to the following:\n",
    "\n",
    "```python\n",
    "Enter the quantity of t-shirts available:  5\n",
    "Enter the quantity of mugs available:  4\n",
    "Enter the quantity of hats available:  3\n",
    "Enter the quantity of books available:  2\n",
    "Enter the quantity of keychains available:  1\n",
    "Enter the number of customer orders:  2\n",
    "Enter the name of a product that a customer wants to order:  hat\n",
    "Enter the name of a product that a customer wants to order:  keychain\n",
    "\n",
    "Order Statistics:\n",
    "Total Products Ordered: 2\n",
    "Percentage of Unique Products Ordered: 40.0\n",
    "\n",
    "Updated Inventory:\n",
    "t-shirt: 5\n",
    "mug: 4\n",
    "hat: 2\n",
    "book: 2\n",
    "Enter the price of keychain:  5\n",
    "Enter the price of hat:  10\n",
    "Total Price: 15.0\n",
    "\n",
    "```\n"
   ]
  },
  {
   "cell_type": "code",
   "execution_count": 52,
   "id": "5b4f497c",
   "metadata": {},
   "outputs": [],
   "source": [
    "### 1. Review your code from the previous exercise and identify areas where you can apply comprehension to simplify \n",
    "# and streamline your code. \n",
    "\n",
    "#    - *Hint: Apply it to initialize inventory, updating the inventory and printing the updated inventory.*\n"
   ]
  },
  {
   "cell_type": "code",
   "execution_count": 53,
   "id": "0e007cd2",
   "metadata": {},
   "outputs": [],
   "source": [
    "def initialize_inventory(products):\n",
    "    inventario = {}\n",
    "\n",
    "    inventario = {item: int(input(f\"Enter the quantity of {item}: \")) for item in products}\n",
    "    \n",
    "    print(f\"Those are the items in the inventory:{inventario}\")\n",
    "    return inventario"
   ]
  },
  {
   "cell_type": "code",
   "execution_count": 54,
   "id": "9c8a9bc9",
   "metadata": {},
   "outputs": [],
   "source": [
    "### 2. Modify the function get_customer_orders so it prompts the user to enter the number of customer orders and gathers\n",
    "#  the product names using a loop and user input. Use comprehension."
   ]
  },
  {
   "cell_type": "code",
   "execution_count": 55,
   "id": "32d01df7",
   "metadata": {},
   "outputs": [],
   "source": [
    "def get_customer_orders():\n",
    "\n",
    "    customer_orders = ()\n",
    "    number_of_pos = int(input(f\"Please type how many products you want to buy. We have {len(products)} available.\"))\n",
    "    customer_orders = {input(\"Please choose a product from the list\") for i in range(number_of_pos)}\n",
    "    print(f\"Those are the items in the customer order:{customer_orders}\")\n",
    "    return customer_orders"
   ]
  },
  {
   "cell_type": "code",
   "execution_count": 56,
   "id": "c9c1679e",
   "metadata": {},
   "outputs": [],
   "source": [
    "# 3. Add a new function to calculate the total price of the customer order. \n",
    "# For each product in customer_orders, prompt the user to enter the price of that product. \n",
    "# Use comprehension to calculate the total price. Note: assume that the user can only have 1 unit of each product."
   ]
  },
  {
   "cell_type": "code",
   "execution_count": 57,
   "id": "f74e530e",
   "metadata": {},
   "outputs": [],
   "source": [
    "def price_inventory(customer_orders):\n",
    "    # price = {item: int(input(f\"Enter the price of {item} : \")) for item in customer_orders }\n",
    "    price = []\n",
    "    price = [int(input(f\"Enter the price of {item} : \")) for item in customer_orders]\n",
    "    total_price = sum(price)\n",
    "    return total_price"
   ]
  },
  {
   "cell_type": "code",
   "execution_count": 58,
   "id": "a6886537",
   "metadata": {},
   "outputs": [],
   "source": [
    "# 4. Modify the update_inventory function to remove the product from the inventory\n",
    "# if its quantity becomes zero after fulfilling the customer orders. Use comprehension\n",
    "# to filter out the products with a quantity of zero from the inventory."
   ]
  },
  {
   "cell_type": "code",
   "execution_count": 62,
   "id": "01cfdc05",
   "metadata": {},
   "outputs": [],
   "source": [
    "def update_inventory(inventory,customer_orders):\n",
    "    \n",
    "    inventory = {item: (inventory[item] -1) if item in customer_orders else inventory[item] for item in inventory}\n",
    "    # First we updated the qty of every item in inventory\n",
    "    inventory = {item: inventory[item] for item in inventory  if inventory[item] > 0}\n",
    "\n",
    "    \n",
    "    return inventory\n",
    "\n",
    "\n",
    "    "
   ]
  },
  {
   "cell_type": "code",
   "execution_count": 60,
   "id": "ec7d82d2",
   "metadata": {},
   "outputs": [],
   "source": [
    "# 5. Print the total price of the customer order.\n",
    "\n"
   ]
  },
  {
   "cell_type": "code",
   "execution_count": 63,
   "id": "05ffb19e",
   "metadata": {},
   "outputs": [
    {
     "name": "stdout",
     "output_type": "stream",
     "text": [
      "Those are the items in the inventory:{'t-shirt': 1, 'mug': 1, 'hat': 1, 'book': 2, 'keychain': 3}\n",
      "Those are the items in the customer order:{'book', 'hat', 'mug', 'keychain'}\n",
      "Total price of product purchased: 100\n",
      "{'t-shirt': 1, 'book': 1, 'keychain': 2}\n"
     ]
    }
   ],
   "source": [
    "#6. Call the functions in the appropriate sequence to execute the \n",
    "# program and manage customer orders.\n",
    "\n",
    "\n",
    "\n",
    "products = [\"t-shirt\", \"mug\", \"hat\", \"book\", \"keychain\"]\n",
    "inventory = initialize_inventory(products)\n",
    "\n",
    "customer_orders = get_customer_orders()\n",
    "\n",
    "inventory_updated = update_inventory(inventory,customer_orders)\n",
    "\n",
    "print(f\"Total price of product purchased: {price_inventory(customer_orders)}\")\n",
    "print(inventory_updated)"
   ]
  }
 ],
 "metadata": {
  "kernelspec": {
   "display_name": "Python 3 (ipykernel)",
   "language": "python",
   "name": "python3"
  },
  "language_info": {
   "codemirror_mode": {
    "name": "ipython",
    "version": 3
   },
   "file_extension": ".py",
   "mimetype": "text/x-python",
   "name": "python",
   "nbconvert_exporter": "python",
   "pygments_lexer": "ipython3",
   "version": "3.9.1"
  }
 },
 "nbformat": 4,
 "nbformat_minor": 5
}
